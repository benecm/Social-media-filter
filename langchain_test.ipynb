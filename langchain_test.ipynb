{
 "cells": [
  {
   "cell_type": "code",
   "execution_count": 11,
   "id": "ddf8c164",
   "metadata": {},
   "outputs": [],
   "source": [
    "from langchain_core.prompts import ChatPromptTemplate\n",
    "from langchain_ollama.llms import OllamaLLM\n",
    "import os\n",
    "from langchain_community.vectorstores import Chroma\n",
    "from langchain_community.embeddings import SentenceTransformerEmbeddings\n",
    "from langchain.chains import ConversationalRetrievalChain\n",
    "from langchain.memory import ConversationBufferMemory\n",
    "\n",
    "os.environ['OLLAMA_HOST'] = 'http://127.0.0.1:11500/'"
   ]
  },
  {
   "cell_type": "code",
   "execution_count": 5,
   "id": "5a59b84d",
   "metadata": {},
   "outputs": [
    {
     "data": {
      "text/plain": [
       "\"LangChain is an open-source, Python-based framework that aims to simplify and streamline the process of building blockchain-based applications.\\n\\nHere's a step-by-step breakdown:\\n\\n1. **Definition**: LangChain was created by OpenZeppelin, a well-known blockchain development company, to help developers build more complex and scalable blockchain projects.\\n2. **Key features**: The framework provides a set of reusable components and tools that allow developers to focus on building their application's core logic, rather than dealing with low-level blockchain integration details.\\n3. **Language support**: LangChain supports multiple programming languages, including Python, JavaScript, and Solidity, making it accessible to developers from various backgrounds.\\n4. **Blockchain integrations**: The framework integrates with popular blockchain platforms like Ethereum, Solana, and Polygon, allowing developers to easily connect their applications to these networks.\\n5. **Modular architecture**: LangChain uses a modular design, which enables developers to easily add or remove components as needed, making it flexible and adaptable for various use cases.\\n\\nBy providing a standardized way of integrating blockchain functionality into web applications, LangChain aims to reduce the complexity and effort required for building blockchain-based projects, making it more accessible to a wider range of developers.\""
      ]
     },
     "execution_count": 5,
     "metadata": {},
     "output_type": "execute_result"
    }
   ],
   "source": [
    "template = \"\"\"Question: {question}\n",
    "\n",
    "Answer: Let's think step by step.\"\"\"\n",
    "\n",
    "prompt = ChatPromptTemplate.from_template(template)\n",
    "\n",
    "model = OllamaLLM(model=\"llama3.2\")\n",
    "\n",
    "chain = prompt | model\n",
    "\n",
    "chain.invoke({\"question\": \"What is LangChain?\"})"
   ]
  },
  {
   "cell_type": "markdown",
   "id": "951a3dd9",
   "metadata": {},
   "source": [
    "Agentic solution\n"
   ]
  },
  {
   "cell_type": "code",
   "execution_count": 13,
   "id": "296d0aed",
   "metadata": {},
   "outputs": [
    {
     "name": "stdout",
     "output_type": "stream",
     "text": [
      "Az üzenetből látszik, hogy a szavak egymást váltják, tehát nem egyik nap és másik nap. Azonban az üzenet egyszerű: Nincs olyan napon, amikor csak \"Narancs érik ősszel\" lenne.\n"
     ]
    }
   ],
   "source": [
    "embeddings = SentenceTransformerEmbeddings(model_name=\"all-MiniLM-L6-v2\")\n",
    "db = Chroma(persist_directory=\"chroma_db\",embedding_function=embeddings)\n",
    "\n",
    "texts = [\"Alma a fán.\", \"Narancs érik ősszel.\"]\n",
    "db.add_texts(texts)\n",
    "\n",
    "# 2. Ollama LLM definíció (pl. 'llama3.2' vagy 'qwen:8b')\n",
    "llm = OllamaLLM(model=\"llama3.2\")\n",
    "\n",
    "# 3. Retrieval chain (RAG pipeline)\n",
    "memory = ConversationBufferMemory(memory_key=\"chat_history\", return_messages=True)\n",
    "rag_chain = ConversationalRetrievalChain.from_llm(llm=llm, retriever=db.as_retriever(), memory=memory)\n",
    "\n",
    "# 4. Agent pipeline: user query → keresés → LLM válasz\n",
    "user_question = \"Mikor érik a narancs?\"\n",
    "response = rag_chain({\"question\": user_question, \"chat_history\": []})\n",
    "print(response['answer'])"
   ]
  },
  {
   "cell_type": "code",
   "execution_count": null,
   "id": "c15ff91a",
   "metadata": {},
   "outputs": [],
   "source": []
  }
 ],
 "metadata": {
  "kernelspec": {
   "display_name": "base",
   "language": "python",
   "name": "python3"
  },
  "language_info": {
   "codemirror_mode": {
    "name": "ipython",
    "version": 3
   },
   "file_extension": ".py",
   "mimetype": "text/x-python",
   "name": "python",
   "nbconvert_exporter": "python",
   "pygments_lexer": "ipython3",
   "version": "3.12.7"
  }
 },
 "nbformat": 4,
 "nbformat_minor": 5
}
