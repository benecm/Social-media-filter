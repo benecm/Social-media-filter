{
 "cells": [
  {
   "cell_type": "code",
   "execution_count": 1,
   "metadata": {},
   "outputs": [],
   "source": [
    "from textblob import TextBlob\n",
    "import json\n",
    "import pandas as pd\n",
    "import matplotlib\n",
    "matplotlib.use(\"Agg\")\n",
    "\n",
    "import matplotlib.pyplot as plt\n"
   ]
  },
  {
   "cell_type": "code",
   "execution_count": null,
   "metadata": {},
   "outputs": [],
   "source": [
    "#textlob megoldás\n",
    "def sentiment_analysis(filename=\"comments.json\", output_filename=\"sentiment_results.json\"):\n",
    "    try:\n",
    "        with open(filename, \"r\", encoding=\"utf-8\") as f:\n",
    "            comments = json.load(f)\n",
    "    except (FileNotFoundError, json.JSONDecodeError):\n",
    "        print(\"Nem található megfelelő JSON fájl!\")\n",
    "        return\n",
    "    \n",
    "    df = pd.DataFrame(comments, columns=[\"Comment\"])\n",
    "    df[\"Polarity\"] = df[\"Comment\"].apply(lambda x: TextBlob(x).sentiment.polarity)\n",
    "    df[\"Sentiment\"] = df[\"Polarity\"].apply(lambda x: \"Positive\" if x > 0 else \"Negative\" if x < 0 else \"Neutral\")\n",
    "    \n",
    "    sentiment_results = df.to_dict(orient=\"records\")\n",
    "    with open(output_filename, \"w\", encoding=\"utf-8\") as f:\n",
    "        json.dump(sentiment_results, f, ensure_ascii=False, indent=4)\n",
    "    \n",
    "    print(\"Sentiment elemzés eredménye mentve:\", output_filename)\n",
    "    \n",
    "    plt.figure(figsize=(8, 5))\n",
    "    df[\"Sentiment\"].value_counts().plot(kind=\"bar\", color=['green', 'red', 'gray'])\n",
    "    plt.xlabel(\"Sentiment\")\n",
    "    plt.ylabel(\"Frekvencia\")\n",
    "    plt.title(\"Kommentek sentiment eloszlása\")\n",
    "    #plt.show()\n"
   ]
  },
  {
   "cell_type": "code",
   "execution_count": 16,
   "metadata": {},
   "outputs": [
    {
     "name": "stdout",
     "output_type": "stream",
     "text": [
      "Sentiment elemzés eredménye mentve: sentiment_results.json\n"
     ]
    }
   ],
   "source": [
    "sentiment_analysis()"
   ]
  }
 ],
 "metadata": {
  "kernelspec": {
   "display_name": "base",
   "language": "python",
   "name": "python3"
  },
  "language_info": {
   "codemirror_mode": {
    "name": "ipython",
    "version": 3
   },
   "file_extension": ".py",
   "mimetype": "text/x-python",
   "name": "python",
   "nbconvert_exporter": "python",
   "pygments_lexer": "ipython3",
   "version": "3.12.7"
  }
 },
 "nbformat": 4,
 "nbformat_minor": 2
}
